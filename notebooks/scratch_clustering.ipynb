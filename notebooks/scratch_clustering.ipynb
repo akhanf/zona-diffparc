{
 "cells": [
  {
   "cell_type": "code",
   "execution_count": 1,
   "metadata": {},
   "outputs": [],
   "source": [
    "import numpy as np\n",
    "import nibabel as nib\n",
    "import sklearn\n",
    "import matplotlib.pyplot as plt"
   ]
  },
  {
   "cell_type": "code",
   "execution_count": 2,
   "metadata": {},
   "outputs": [],
   "source": [
    "\n",
    "label = 'ZI'\n",
    "hemi = 'R'\n",
    "nsamples = 10000\n",
    "path = '/home/ROBARTS/jlau/akhanfscratch/zona_diffparc/src/'\n",
    "\n",
    "data = np.load(f'{path}/diffparc/group/group_space-snsx32_res-0.7_seed-{label}_hemi-{hemi}_targets-cortical_nsamples-{nsamples}_connMap.npz')\n"
   ]
  },
  {
   "cell_type": "code",
   "execution_count": 3,
   "metadata": {},
   "outputs": [],
   "source": [
    "def save_label_nii (labels,mask,affine,out_nifti):\n",
    "    labels_vol = np.zeros(mask.shape)\n",
    "    labels_vol[mask > 0] = labels+1 #add a 1 so label 0 is diff from bgnd\n",
    "    labels_nib = nib.Nifti1Image(labels_vol,affine)\n",
    "    nib.save(labels_nib,out_nifti)\n",
    "    "
   ]
  },
  {
   "cell_type": "code",
   "execution_count": 4,
   "metadata": {},
   "outputs": [],
   "source": [
    "conn_group = data['conn_group']\n",
    "mask = data['mask']\n",
    "affine = data['affine']\n",
    "\n",
    "#concat subjects\n",
    "conn_group_m = np.moveaxis(conn_group,0,2)\n",
    "conn_concat = conn_group_m.reshape([conn_group_m.shape[0],conn_group_m.shape[1]*conn_group_m.shape[2]])"
   ]
  },
  {
   "cell_type": "code",
   "execution_count": 5,
   "metadata": {},
   "outputs": [
    {
     "ename": "NameError",
     "evalue": "name 'dist' is not defined",
     "output_type": "error",
     "traceback": [
      "\u001b[0;31m---------------------------------------------------------------------------\u001b[0m",
      "\u001b[0;31mNameError\u001b[0m                                 Traceback (most recent call last)",
      "\u001b[0;32m<ipython-input-5-bb90f1aa45e2>\u001b[0m in \u001b[0;36m<module>\u001b[0;34m\u001b[0m\n\u001b[1;32m      5\u001b[0m \u001b[0;32mfor\u001b[0m \u001b[0mk\u001b[0m \u001b[0;32min\u001b[0m \u001b[0mnp\u001b[0m\u001b[0;34m.\u001b[0m\u001b[0marange\u001b[0m\u001b[0;34m(\u001b[0m\u001b[0;36m2\u001b[0m\u001b[0;34m,\u001b[0m\u001b[0;36m12\u001b[0m\u001b[0;34m)\u001b[0m\u001b[0;34m:\u001b[0m\u001b[0;34m\u001b[0m\u001b[0;34m\u001b[0m\u001b[0m\n\u001b[1;32m      6\u001b[0m     \u001b[0;32mfrom\u001b[0m \u001b[0msklearn\u001b[0m\u001b[0;34m.\u001b[0m\u001b[0mcluster\u001b[0m \u001b[0;32mimport\u001b[0m \u001b[0mSpectralClustering\u001b[0m\u001b[0;34m\u001b[0m\u001b[0;34m\u001b[0m\u001b[0m\n\u001b[0;32m----> 7\u001b[0;31m     \u001b[0mclustering\u001b[0m \u001b[0;34m=\u001b[0m \u001b[0mSpectralClustering\u001b[0m\u001b[0;34m(\u001b[0m\u001b[0mn_clusters\u001b[0m\u001b[0;34m=\u001b[0m\u001b[0mk\u001b[0m\u001b[0;34m,\u001b[0m \u001b[0massign_labels\u001b[0m\u001b[0;34m=\u001b[0m\u001b[0;34m\"discretize\"\u001b[0m\u001b[0;34m,\u001b[0m\u001b[0mrandom_state\u001b[0m\u001b[0;34m=\u001b[0m\u001b[0;36m0\u001b[0m\u001b[0;34m,\u001b[0m\u001b[0maffinity\u001b[0m\u001b[0;34m=\u001b[0m\u001b[0mdist\u001b[0m\u001b[0;34m)\u001b[0m\u001b[0;34m.\u001b[0m\u001b[0mfit\u001b[0m\u001b[0;34m(\u001b[0m\u001b[0mconn_concat\u001b[0m\u001b[0;34m)\u001b[0m\u001b[0;34m\u001b[0m\u001b[0;34m\u001b[0m\u001b[0m\n\u001b[0m\u001b[1;32m      8\u001b[0m     \u001b[0msave_label_nii\u001b[0m\u001b[0;34m(\u001b[0m\u001b[0mclustering\u001b[0m\u001b[0;34m.\u001b[0m\u001b[0mlabels_\u001b[0m\u001b[0;34m,\u001b[0m\u001b[0mmask\u001b[0m\u001b[0;34m,\u001b[0m\u001b[0maffine\u001b[0m\u001b[0;34m,\u001b[0m\u001b[0;34mf'{path}/diffparc/group/groupconcat_label-{label}_hemi-{hemi}_method-{method}_k-{k}_cluslabels.nii.gz'\u001b[0m\u001b[0;34m)\u001b[0m\u001b[0;34m\u001b[0m\u001b[0;34m\u001b[0m\u001b[0m\n\u001b[1;32m      9\u001b[0m \u001b[0;34m\u001b[0m\u001b[0m\n",
      "\u001b[0;31mNameError\u001b[0m: name 'dist' is not defined"
     ]
    }
   ],
   "source": [
    "#run spectral clustering\n",
    "\n",
    "method = 'spectralcosine'\n",
    "\n",
    "for k in np.arange(2,12):\n",
    "    from sklearn.cluster import SpectralClustering\n",
    "    clustering = SpectralClustering(n_clusters=k, assign_labels=\"discretize\",random_state=0,affinity=dist).fit(conn_concat)\n",
    "    save_label_nii(clustering.labels_,mask,affine,f'{path}/diffparc/group/groupconcat_label-{label}_hemi-{hemi}_method-{method}_k-{k}_cluslabels.nii.gz')\n",
    "    "
   ]
  },
  {
   "cell_type": "code",
   "execution_count": null,
   "metadata": {},
   "outputs": [],
   "source": [
    "# t-SNE\n",
    "\n",
    "from sklearn.manifold import TSNE\n",
    "conn_embedded = sklearn.manifold.TSNE(n_components=2,metric='cosine',random_state=100).fit_transform(conn_concat)\n",
    "plt.figure()\n",
    "plt.scatter(conn_embedded[:,0],conn_embedded[:,1]);\n",
    "\n",
    "\n",
    "for k in np.arange(2,12):\n",
    "    from sklearn.cluster import SpectralClustering\n",
    "    clustering = SpectralClustering(n_clusters=k, assign_labels=\"discretize\",random_state=0,affinity=dist).fit(conn_concat)    \n",
    "    plt.figure()\n",
    "    plt.subplot(1,2,1)\n",
    "    plt.scatter(conn_embedded[:,0],conn_embedded[:,1],c=clustering.labels_);\n",
    "    plt.title(f'spectral clustering k={k}, vis with t-SNE')\n",
    "\n",
    "\n",
    "    #centroid,labels = sklearn.cluster.KMeans(n_clusters=k,random_state=100).fit_transform(conn_embedded)\n",
    "    kmeans = sklearn.cluster.k_means(conn_embedded,k)\n",
    "    plt.subplot(1,2,2)\n",
    "    plt.scatter(conn_embedded[:,0],conn_embedded[:,1],c=kmeans[1])\n",
    "    plt.title(f'k-means on t-SNE embedding, k={k}')\n",
    "\n",
    "    method='TSNEKmeans'\n",
    "    save_label_nii(kmeans[1],mask,affine,f'diffparc/group/groupconcat_label-{label}_hemi-{hemi}_method-{method}_k-{k}_cluslabels.nii.gz')\n"
   ]
  },
  {
   "cell_type": "markdown",
   "metadata": {},
   "source": [
    "# Clustering left and right simultaneously"
   ]
  },
  {
   "cell_type": "code",
   "execution_count": null,
   "metadata": {},
   "outputs": [],
   "source": [
    "# now, try clustering left and right at the same time\n",
    "\n",
    "label = 'ZI'\n",
    "nsamples = 10000\n",
    "\n",
    "hemi = 'R'\n",
    "data_R = np.load(f'diffparc/group/group_space-snsx32_res-0.7_seed-{label}_hemi-{hemi}_targets-cortical_nsamples-{nsamples}_connMap.npz')\n",
    "\n",
    "hemi = 'L'\n",
    "data_L = np.load(f'diffparc/group/group_space-snsx32_res-0.7_seed-{label}_hemi-{hemi}_targets-cortical_nsamples-{nsamples}_connMap.npz')\n"
   ]
  },
  {
   "cell_type": "code",
   "execution_count": null,
   "metadata": {},
   "outputs": [],
   "source": [
    "\n",
    "#concat subjects\n",
    "conn_group = data_L['conn_group']\n",
    "mask_L = data_L['mask']\n",
    "conn_group_m = np.moveaxis(conn_group,0,2)\n",
    "conn_concat_L = conn_group_m.reshape([conn_group_m.shape[0],conn_group_m.shape[1]*conn_group_m.shape[2]])\n",
    "\n",
    "conn_group = data_R['conn_group']\n",
    "mask_R = data_R['mask']\n",
    "conn_group_m = np.moveaxis(conn_group,0,2)\n",
    "conn_concat_R = conn_group_m.reshape([conn_group_m.shape[0],conn_group_m.shape[1]*conn_group_m.shape[2]])\n",
    "\n",
    "num_L = conn_concat_L.shape[0]\n",
    "conn_concat = np.vstack((conn_concat_L,conn_concat_R))\n"
   ]
  },
  {
   "cell_type": "code",
   "execution_count": null,
   "metadata": {},
   "outputs": [],
   "source": [
    "def save_label_LR_nii (labels,num_L,mask_L,mask_R,affine,out_nifti):\n",
    "    labels_vol = np.zeros(mask_L.shape)\n",
    "    labels_vol[mask_L > 0] = labels[:num_L]+1 #add a 1 so label 0 is diff from bgnd\n",
    "    labels_vol[mask_R > 0] = labels[num_L:]+1 #add a 1 so label 0 is diff from bgnd\n",
    "    labels_nib = nib.Nifti1Image(labels_vol,affine)\n",
    "    nib.save(labels_nib,out_nifti)\n",
    "    "
   ]
  },
  {
   "cell_type": "code",
   "execution_count": null,
   "metadata": {},
   "outputs": [],
   "source": [
    "#run spectral clustering\n",
    "\n",
    "method = 'spectralcosine'\n",
    "\n",
    "for k in np.arange(2,12):\n",
    "    from sklearn.cluster import SpectralClustering\n",
    "    clustering = SpectralClustering(n_clusters=k, assign_labels=\"discretize\",random_state=0,affinity=dist).fit(conn_concat)\n",
    "    save_label_LR_nii(clustering.labels_,num_L,mask_L,mask_R,affine,f'diffparc/group/groupconcat_label-{label}_method-{method}_k-{k}_cluslabels.nii.gz')\n",
    "    "
   ]
  },
  {
   "cell_type": "code",
   "execution_count": null,
   "metadata": {},
   "outputs": [],
   "source": []
  }
 ],
 "metadata": {
  "kernelspec": {
   "display_name": "Python 3",
   "language": "python",
   "name": "python3"
  },
  "language_info": {
   "codemirror_mode": {
    "name": "ipython",
    "version": 3
   },
   "file_extension": ".py",
   "mimetype": "text/x-python",
   "name": "python",
   "nbconvert_exporter": "python",
   "pygments_lexer": "ipython3",
   "version": "3.7.6"
  }
 },
 "nbformat": 4,
 "nbformat_minor": 4
}
